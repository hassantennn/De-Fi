{
 "cells": [
  {
   "cell_type": "code",
   "execution_count": null,
   "metadata": {},
   "outputs": [],
   "source": [
    "import pandas as pd\n",
    "from sklearn.linear_model import LinearRegression\n",
    "from sklearn.model_selection import train_test_split\n",
    "from sklearn.metrics import mean_squared_error\n",
    "\n",
    "# Load data\n",
    "carbon = pd.read_csv('../data/carbon_prices.csv')\n",
    "mco2 = pd.read_csv('../data/mco2_token.csv')\n",
    "\n",
    "# Convert dates\n",
    "carbon['date'] = pd.to_datetime(carbon['date'])\n",
    "mco2['date'] = pd.to_datetime(mco2['date'])\n",
    "\n",
    "# Merge\n",
    "df = pd.merge(carbon, mco2, on='date', how='inner')\n",
    "\n",
    "# Features + target\n",
    "X = df[['close', 'holders', 'circulating_supply']]\n",
    "y = df['volume']\n",
    "\n",
    "# Train/test split\n",
    "X_train, X_test, y_train, y_test = train_test_split(X, y, test_size=0.2, shuffle=False)\n",
    "\n",
    "# Train model\n",
    "model = LinearRegression()\n",
    "model.fit(X_train, y_train)\n",
    "\n",
    "# Predictions\n",
    "preds = model.predict(X_test)\n",
    "mse = mean_squared_error(y_test, preds)\n",
    "print('MSE:', mse)\n",
    "print('Sample predictions:', preds[:5])"
   ]
  }
 ],
 "metadata": {
  "kernelspec": {
   "display_name": "Python 3",
   "language": "python",
   "name": "python3"
  },
  "language_info": {
   "name": "python",
   "version": "3.10"
  }
 },
 "nbformat": 4,
 "nbformat_minor": 2
}
